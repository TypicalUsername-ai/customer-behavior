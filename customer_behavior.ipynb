{
 "cells": [
  {
   "cell_type": "markdown",
   "id": "6c7b0de2-60e4-4b8c-b78d-939338dbe359",
   "metadata": {},
   "source": [
    "# AWBS - Project 2\n",
    "\n",
    "author: Mateusz Domalewski\n",
    "\n",
    "group: 2\n",
    "\n",
    "index: 288761"
   ]
  },
  {
   "cell_type": "code",
   "execution_count": 2,
   "id": "ced3f917-bffe-4c33-93e6-5c4ebc7331fc",
   "metadata": {},
   "outputs": [],
   "source": [
    "### importing libraries\n",
    "import polars as pl\n",
    "import numpy as np\n",
    "import matplotlib.pyplot as plt"
   ]
  },
  {
   "cell_type": "code",
   "execution_count": 4,
   "id": "e055f829-a95b-49ad-8488-2e6a9a2fb662",
   "metadata": {},
   "outputs": [],
   "source": [
    "### importing data sources\n",
    "E_COMMERCE = './data/E-commerce_Customer_Behavior_Sheet1.csv'"
   ]
  },
  {
   "cell_type": "markdown",
   "id": "95273f70-59ed-4c5e-b0f8-bc5aa24c411e",
   "metadata": {},
   "source": [
    "## satisfaction level of customers of e-commerce shop"
   ]
  },
  {
   "cell_type": "code",
   "execution_count": 6,
   "id": "71483a9f-0df3-4f9e-a3f4-b86eede733d5",
   "metadata": {},
   "outputs": [
    {
     "data": {
      "text/html": [
       "<div><style>\n",
       ".dataframe > thead > tr,\n",
       ".dataframe > tbody > tr {\n",
       "  text-align: right;\n",
       "  white-space: pre-wrap;\n",
       "}\n",
       "</style>\n",
       "<small>shape: (9, 12)</small><table border=\"1\" class=\"dataframe\"><thead><tr><th>statistic</th><th>Customer ID</th><th>Gender</th><th>Age</th><th>City</th><th>Membership Type</th><th>Total Spend</th><th>Items Purchased</th><th>Average Rating</th><th>Discount Applied</th><th>Days Since Last Purchase</th><th>Satisfaction Level</th></tr><tr><td>str</td><td>f64</td><td>str</td><td>f64</td><td>str</td><td>str</td><td>f64</td><td>f64</td><td>f64</td><td>f64</td><td>f64</td><td>str</td></tr></thead><tbody><tr><td>&quot;count&quot;</td><td>350.0</td><td>&quot;350&quot;</td><td>350.0</td><td>&quot;350&quot;</td><td>&quot;350&quot;</td><td>350.0</td><td>350.0</td><td>350.0</td><td>350.0</td><td>350.0</td><td>&quot;348&quot;</td></tr><tr><td>&quot;null_count&quot;</td><td>0.0</td><td>&quot;0&quot;</td><td>0.0</td><td>&quot;0&quot;</td><td>&quot;0&quot;</td><td>0.0</td><td>0.0</td><td>0.0</td><td>0.0</td><td>0.0</td><td>&quot;2&quot;</td></tr><tr><td>&quot;mean&quot;</td><td>275.5</td><td>null</td><td>33.597143</td><td>null</td><td>null</td><td>845.381714</td><td>12.6</td><td>4.019143</td><td>0.5</td><td>26.588571</td><td>null</td></tr><tr><td>&quot;std&quot;</td><td>101.180532</td><td>null</td><td>4.870882</td><td>null</td><td>null</td><td>362.058695</td><td>4.155984</td><td>0.580539</td><td>null</td><td>13.440813</td><td>null</td></tr><tr><td>&quot;min&quot;</td><td>101.0</td><td>&quot;Female&quot;</td><td>26.0</td><td>&quot;Chicago&quot;</td><td>&quot;Bronze&quot;</td><td>410.8</td><td>7.0</td><td>3.0</td><td>0.0</td><td>9.0</td><td>&quot;Neutral&quot;</td></tr><tr><td>&quot;25%&quot;</td><td>188.0</td><td>null</td><td>30.0</td><td>null</td><td>null</td><td>500.75</td><td>9.0</td><td>3.5</td><td>null</td><td>15.0</td><td>null</td></tr><tr><td>&quot;50%&quot;</td><td>276.0</td><td>null</td><td>33.0</td><td>null</td><td>null</td><td>780.2</td><td>12.0</td><td>4.1</td><td>null</td><td>23.0</td><td>null</td></tr><tr><td>&quot;75%&quot;</td><td>363.0</td><td>null</td><td>37.0</td><td>null</td><td>null</td><td>1160.6</td><td>15.0</td><td>4.5</td><td>null</td><td>38.0</td><td>null</td></tr><tr><td>&quot;max&quot;</td><td>450.0</td><td>&quot;Male&quot;</td><td>43.0</td><td>&quot;San Francisco&quot;</td><td>&quot;Silver&quot;</td><td>1520.1</td><td>21.0</td><td>4.9</td><td>1.0</td><td>63.0</td><td>&quot;Unsatisfied&quot;</td></tr></tbody></table></div>"
      ],
      "text/plain": [
       "shape: (9, 12)\n",
       "┌────────────┬────────────┬────────┬───────────┬───┬───────────┬───────────┬───────────┬───────────┐\n",
       "│ statistic  ┆ Customer   ┆ Gender ┆ Age       ┆ … ┆ Average   ┆ Discount  ┆ Days      ┆ Satisfact │\n",
       "│ ---        ┆ ID         ┆ ---    ┆ ---       ┆   ┆ Rating    ┆ Applied   ┆ Since     ┆ ion Level │\n",
       "│ str        ┆ ---        ┆ str    ┆ f64       ┆   ┆ ---       ┆ ---       ┆ Last      ┆ ---       │\n",
       "│            ┆ f64        ┆        ┆           ┆   ┆ f64       ┆ f64       ┆ Purchase  ┆ str       │\n",
       "│            ┆            ┆        ┆           ┆   ┆           ┆           ┆ ---       ┆           │\n",
       "│            ┆            ┆        ┆           ┆   ┆           ┆           ┆ f64       ┆           │\n",
       "╞════════════╪════════════╪════════╪═══════════╪═══╪═══════════╪═══════════╪═══════════╪═══════════╡\n",
       "│ count      ┆ 350.0      ┆ 350    ┆ 350.0     ┆ … ┆ 350.0     ┆ 350.0     ┆ 350.0     ┆ 348       │\n",
       "│ null_count ┆ 0.0        ┆ 0      ┆ 0.0       ┆ … ┆ 0.0       ┆ 0.0       ┆ 0.0       ┆ 2         │\n",
       "│ mean       ┆ 275.5      ┆ null   ┆ 33.597143 ┆ … ┆ 4.019143  ┆ 0.5       ┆ 26.588571 ┆ null      │\n",
       "│ std        ┆ 101.180532 ┆ null   ┆ 4.870882  ┆ … ┆ 0.580539  ┆ null      ┆ 13.440813 ┆ null      │\n",
       "│ min        ┆ 101.0      ┆ Female ┆ 26.0      ┆ … ┆ 3.0       ┆ 0.0       ┆ 9.0       ┆ Neutral   │\n",
       "│ 25%        ┆ 188.0      ┆ null   ┆ 30.0      ┆ … ┆ 3.5       ┆ null      ┆ 15.0      ┆ null      │\n",
       "│ 50%        ┆ 276.0      ┆ null   ┆ 33.0      ┆ … ┆ 4.1       ┆ null      ┆ 23.0      ┆ null      │\n",
       "│ 75%        ┆ 363.0      ┆ null   ┆ 37.0      ┆ … ┆ 4.5       ┆ null      ┆ 38.0      ┆ null      │\n",
       "│ max        ┆ 450.0      ┆ Male   ┆ 43.0      ┆ … ┆ 4.9       ┆ 1.0       ┆ 63.0      ┆ Unsatisfi │\n",
       "│            ┆            ┆        ┆           ┆   ┆           ┆           ┆           ┆ ed        │\n",
       "└────────────┴────────────┴────────┴───────────┴───┴───────────┴───────────┴───────────┴───────────┘"
      ]
     },
     "execution_count": 6,
     "metadata": {},
     "output_type": "execute_result"
    }
   ],
   "source": [
    "ecomm = pl.read_csv(E_COMMERCE)\n",
    "ecomm.describe()"
   ]
  },
  {
   "cell_type": "code",
   "execution_count": 9,
   "id": "27bd0d0d-0cfa-4c36-b75b-abb20030f329",
   "metadata": {},
   "outputs": [],
   "source": [
    "## drop nulls for classes\n",
    "ecomm = ecomm.drop_nulls()"
   ]
  },
  {
   "cell_type": "code",
   "execution_count": null,
   "id": "8c6cb23f-3ca5-4113-b894-9ac7c234085a",
   "metadata": {},
   "outputs": [],
   "source": []
  },
  {
   "cell_type": "markdown",
   "id": "fbd152fd-7650-41ed-9d9a-57541944f6ee",
   "metadata": {},
   "source": [
    "### assessment of the dependence of customer"
   ]
  },
  {
   "cell_type": "markdown",
   "id": "826275f3-dd72-4d74-9d98-49f91edd28cb",
   "metadata": {},
   "source": [
    "### satisfaction level on other parameters"
   ]
  }
 ],
 "metadata": {
  "kernelspec": {
   "display_name": "Python 3 (ipykernel)",
   "language": "python",
   "name": "python3"
  },
  "language_info": {
   "codemirror_mode": {
    "name": "ipython",
    "version": 3
   },
   "file_extension": ".py",
   "mimetype": "text/x-python",
   "name": "python",
   "nbconvert_exporter": "python",
   "pygments_lexer": "ipython3",
   "version": "3.13.2"
  }
 },
 "nbformat": 4,
 "nbformat_minor": 5
}
