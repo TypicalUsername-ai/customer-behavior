{
 "cells": [
  {
   "cell_type": "markdown",
   "id": "6c7b0de2-60e4-4b8c-b78d-939338dbe359",
   "metadata": {},
   "source": [
    "# AWBS - Project 2\n",
    "\n",
    "author: Mateusz Domalewski\n",
    "\n",
    "group: 2\n",
    "\n",
    "index: 288761"
   ]
  }
 ],
 "metadata": {
  "kernelspec": {
   "display_name": "Python 3 (ipykernel)",
   "language": "python",
   "name": "python3"
  },
  "language_info": {
   "codemirror_mode": {
    "name": "ipython",
    "version": 3
   },
   "file_extension": ".py",
   "mimetype": "text/x-python",
   "name": "python",
   "nbconvert_exporter": "python",
   "pygments_lexer": "ipython3",
   "version": "3.13.2"
  }
 },
 "nbformat": 4,
 "nbformat_minor": 5
}
